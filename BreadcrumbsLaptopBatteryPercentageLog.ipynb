import psutil
import time
import requests
from openpyxl import Workbook, load_workbook
from datetime import datetime

def get_battery_status():
    battery = psutil.sensors_battery()
    return {
        'percentage': battery.percent,
        'plugged_in': battery.power_plugged
    }

def log_battery_status(file_name):
    url = "http://pgcresearch.co.in/PG/RengaIllam/InsertDB.php"

    try:
        workbook = load_workbook(file_name)
        sheet = workbook.active
    except FileNotFoundError:
        workbook = Workbook()
        sheet = workbook.active
        sheet.append(["Date", "Time", "Battery Percentage (%)", "Plugged In"])

    while True:
        now = datetime.now()
        date_str = now.strftime("%Y-%m-%d")
        time_str = now.strftime("%H:%M:%S")
        battery_status = get_battery_status()
        percentage = battery_status['percentage']
        plugged_in = "Yes" if battery_status['plugged_in'] else "No"

        # Log data to Excel
        sheet.append([date_str, time_str, percentage, plugged_in])
        workbook.save(file_name)
        
        # Post data to the web server
        payload = {
            'date': date_str,
            'time': time_str,
            'battery_percentage': percentage,
            'plugged_in': plugged_in
        }
        
        try:
            response = requests.post(url, data=payload)
            if response.status_code == 200:
                print(f"Data posted successfully: {payload}")
            else:
                print(f"Failed to post data: {response.status_code}, {response.text}")
        except requests.exceptions.RequestException as e:
            print(f"Error posting data: {e}")
        
        print(f"Logged at {date_str} {time_str}: {percentage}% (Plugged In: {plugged_in})")

        time.sleep(7)  # Wait for 7 seconds before logging again

if __name__ == "__main__":
    file_name = "battery_log.xlsx"  # Specify the file name here
    log_battery_status(file_name)
